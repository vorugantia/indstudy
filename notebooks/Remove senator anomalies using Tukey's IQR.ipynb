{
 "cells": [
  {
   "cell_type": "markdown",
   "metadata": {},
   "source": [
    "## Trimming outliers from data\n",
    "\n",
    "Tukey's Interquartile ranges (IQR) help remove extreme outliers within a dataset. The following equation gives you the upper fence, or maximum threshold, for a range of data:\n",
    "\n",
    "Q3 + 1.5(Q3-Q1)\n",
    "\n",
    "More info: http://datapigtechnologies.com/blog/index.php/highlighting-outliers-in-your-data-with-the-tukey-method/"
   ]
  },
  {
   "cell_type": "code",
   "execution_count": 1,
   "metadata": {
    "collapsed": true
   },
   "outputs": [],
   "source": [
    "import json\n",
    "import numpy as np\n",
    "import matplotlib.pyplot as plt"
   ]
  },
  {
   "cell_type": "code",
   "execution_count": 2,
   "metadata": {
    "collapsed": true
   },
   "outputs": [],
   "source": [
    "with open('../plots/senators_2016/nyt_senators_results.json') as results:\n",
    "    data_nyt = json.load(results)\n",
    "    \n",
    "with open('../plots/senators_2016/wsj_senators_results.json') as results:\n",
    "    data_wsj = json.load(results)"
   ]
  },
  {
   "cell_type": "code",
   "execution_count": 3,
   "metadata": {},
   "outputs": [],
   "source": [
    "data_nyt = np.sort(data_nyt)\n",
    "data_wsj = np.sort(data_wsj)"
   ]
  },
  {
   "cell_type": "code",
   "execution_count": 4,
   "metadata": {},
   "outputs": [],
   "source": [
    "q1 = np.percentile(data_nyt, 25)\n",
    "q3 = np.percentile(data_nyt, 75)\n",
    "upper_fence = q3 + 1.5*(q3-q1)\n",
    "\n",
    "trimmed_data_nyt = data_nyt[data_nyt < upper_fence]\n",
    "\n",
    "q1 = np.percentile(data_wsj, 25)\n",
    "q3 = np.percentile(data_wsj, 75)\n",
    "upper_fence = q3 + 1.5*(q3-q1)\n",
    "\n",
    "trimmed_data_wsj = data_wsj[data_wsj < upper_fence]"
   ]
  },
  {
   "cell_type": "markdown",
   "metadata": {},
   "source": [
    "## Plotting a histogram of trimmed data"
   ]
  },
  {
   "cell_type": "code",
   "execution_count": 5,
   "metadata": {},
   "outputs": [
    {
     "data": {
      "image/png": "[encoded data removed]",
      "text/plain": [
       "<matplotlib.figure.Figure at 0x7f23d6513390>"
      ]
     },
     "metadata": {},
     "output_type": "display_data"
    }
   ],
   "source": [
    "# NYT\n",
    "plt.hist(trimmed_data_nyt)\n",
    "plt.show()"
   ]
  },
  {
   "cell_type": "code",
   "execution_count": 6,
   "metadata": {},
   "outputs": [
    {
     "data": {
      "image/png": "[encoded data removed]",
      "text/plain": [
       "<matplotlib.figure.Figure at 0x7f23d2e81cf8>"
      ]
     },
     "metadata": {},
     "output_type": "display_data"
    }
   ],
   "source": [
    "# WSJ\n",
    "plt.figure()\n",
    "plt.hist(trimmed_data_wsj)\n",
    "plt.show()"
   ]
  },
  {
   "cell_type": "code",
   "execution_count": 8,
   "metadata": {},
   "outputs": [
    {
     "data": {
      "image/png": "[encoded data removed]",
      "text/plain": [
       "<matplotlib.figure.Figure at 0x7f23d2c564e0>"
      ]
     },
     "metadata": {},
     "output_type": "display_data"
    }
   ],
   "source": [
    "# Combined\n",
    "bins = np.linspace(0, 250, num=20)\n",
    "\n",
    "plt.figure()\n",
    "plt.hist([trimmed_data_nyt, trimmed_data_wsj], bins=bins)\n",
    "# plt.hist([trimmed_data_nyt, trimmed_data_wsj])\n",
    "plt.show()"
   ]
  }
 ],
 "metadata": {
  "kernelspec": {
   "display_name": "Python 3",
   "language": "python",
   "name": "python3"
  },
  "language_info": {
   "codemirror_mode": {
    "name": "ipython",
    "version": 3
   },
   "file_extension": ".py",
   "mimetype": "text/x-python",
   "name": "python",
   "nbconvert_exporter": "python",
   "pygments_lexer": "ipython3",
   "version": "3.6.1"
  }
 },
 "nbformat": 4,
 "nbformat_minor": 2
}
