{
 "cells": [
  {
   "cell_type": "code",
   "execution_count": 36,
   "metadata": {
    "collapsed": true
   },
   "outputs": [],
   "source": [
    "import scipy\n",
    "from scipy.stats import chi2_contingency, chisquare\n",
    "import numpy as np"
   ]
  },
  {
   "cell_type": "markdown",
   "metadata": {},
   "source": [
    "### Chi-2 test\n",
    "\n",
    "Tests whether all of the organization scores equal one same value."
   ]
  },
  {
   "cell_type": "code",
   "execution_count": 37,
   "metadata": {},
   "outputs": [
    {
     "data": {
      "text/plain": [
       "array([[-0.264],\n",
       "       [ 0.104],\n",
       "       [ 0.092],\n",
       "       [-0.402],\n",
       "       [-0.364],\n",
       "       [ 0.347],\n",
       "       [-0.109],\n",
       "       [-0.166],\n",
       "       [-0.099],\n",
       "       [-0.289],\n",
       "       [-0.191],\n",
       "       [ 0.283]])"
      ]
     },
     "execution_count": 37,
     "metadata": {},
     "output_type": "execute_result"
    }
   ],
   "source": [
    "# obs = np.array([[-264], [104], [92], [-402], [-364], [347], [-109], [-166], [-99], [-289], [-191], [283]])\n",
    "obs = np.array([[-0.264], [0.104], [0.092], [-0.402], [-0.364], [0.347], [-0.109], [-0.166], [-0.099], [-0.289], [-0.191], [0.283]])\n",
    "obs"
   ]
  },
  {
   "cell_type": "code",
   "execution_count": 47,
   "metadata": {},
   "outputs": [
    {
     "data": {
      "text/plain": [
       "Power_divergenceResult(statistic=array([-7.48053308]), pvalue=array([ 1.]))"
      ]
     },
     "execution_count": 47,
     "metadata": {},
     "output_type": "execute_result"
    }
   ],
   "source": [
    "# chi2, p, dof, expected = chi2_contingency(obs_converted)\n",
    "\n",
    "# p\n",
    "chisquare(obs)\n",
    "\n",
    "# TODO: Convert obs array to a scale from (0, 1)"
   ]
  },
  {
   "cell_type": "markdown",
   "metadata": {},
   "source": [
    "## 2-Sample T-test\n",
    "\n",
    "Perform these on PAIRS of different organization scores—there should be 11! combinations of scores to test."
   ]
  },
  {
   "cell_type": "code",
   "execution_count": null,
   "metadata": {
    "collapsed": true
   },
   "outputs": [],
   "source": []
  },
  {
   "cell_type": "code",
   "execution_count": null,
   "metadata": {
    "collapsed": true
   },
   "outputs": [],
   "source": []
  }
 ],
 "metadata": {
  "kernelspec": {
   "display_name": "Python 3",
   "language": "python",
   "name": "python3"
  },
  "language_info": {
   "codemirror_mode": {
    "name": "ipython",
    "version": 3
   },
   "file_extension": ".py",
   "mimetype": "text/x-python",
   "name": "python",
   "nbconvert_exporter": "python",
   "pygments_lexer": "ipython3",
   "version": "3.6.1"
  }
 },
 "nbformat": 4,
 "nbformat_minor": 2
}
