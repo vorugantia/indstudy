{
 "cells": [
  {
   "cell_type": "markdown",
   "metadata": {},
   "source": [
    "Test `matplotlib`'s boxplot.\n",
    "\n",
    "See demos here: https://matplotlib.org/examples/pylab_examples/boxplot_demo.html"
   ]
  },
  {
   "cell_type": "code",
   "execution_count": 55,
   "metadata": {
    "collapsed": true
   },
   "outputs": [],
   "source": [
    "import json\n",
    "import matplotlib.pyplot as plt\n",
    "import numpy"
   ]
  },
  {
   "cell_type": "code",
   "execution_count": 56,
   "metadata": {},
   "outputs": [
    {
     "name": "stdout",
     "output_type": "stream",
     "text": [
      "[1882, 1364, 881, 538, 422, 274, 235, 198, 189, 128, 127, 105, 89, 87, 78, 72, 69, 63, 60, 60, 52, 51, 50, 49, 42, 41, 35, 35, 33, 33, 33, 33, 32, 31, 31, 30, 29, 28, 28, 27, 26, 25, 25, 25, 25, 23, 22, 21, 20, 17, 17, 16, 16, 16, 15, 15, 14, 14, 14, 14, 14, 13, 12, 11, 11, 11, 11, 10, 10, 9, 9, 9, 9, 9, 9, 8, 8, 8, 7, 7, 7, 7, 7, 7, 6, 5, 5, 5, 5, 4, 3, 3, 3, 1, 1, 1, 0, 0, 0, 0]\n",
      "[3885, 2740, 1697, 937, 932, 690, 444, 377, 283, 244, 242, 235, 222, 213, 182, 176, 170, 160, 156, 144, 129, 123, 114, 113, 109, 102, 99, 99, 93, 92, 86, 84, 82, 80, 77, 71, 69, 68, 68, 66, 62, 61, 61, 59, 58, 58, 54, 50, 49, 47, 45, 45, 44, 41, 40, 39, 36, 36, 35, 31, 27, 27, 27, 26, 26, 25, 25, 23, 19, 19, 18, 17, 16, 16, 16, 16, 16, 15, 15, 15, 15, 14, 14, 14, 14, 13, 12, 11, 10, 10, 10, 9, 9, 7, 7, 4, 4, 3, 2, 1]\n"
     ]
    }
   ],
   "source": [
    "with open('../plots/senators_2016/nyt_senators_results.json') as results:\n",
    "    data_nyt = json.load(results)\n",
    "    \n",
    "with open('../plots/senators_2016/wsj_senators_results.json') as results:\n",
    "    data_wsj = json.load(results)\n",
    "    \n",
    "print(data_nyt)\n",
    "print(data_wsj)"
   ]
  },
  {
   "cell_type": "markdown",
   "metadata": {},
   "source": [
    "## NYT boxplots"
   ]
  },
  {
   "cell_type": "code",
   "execution_count": 58,
   "metadata": {},
   "outputs": [
    {
     "data": {
      "image/png": "[encoded data removed]",
      "text/plain": [
       "<matplotlib.figure.Figure at 0x7fd76d73a748>"
      ]
     },
     "metadata": {},
     "output_type": "display_data"
    }
   ],
   "source": [
    "plt.boxplot(data_nyt)\n",
    "plt.show()"
   ]
  },
  {
   "cell_type": "code",
   "execution_count": 65,
   "metadata": {},
   "outputs": [
    {
     "data": {
      "image/png": "[encoded data removed]",
      "text/plain": [
       "<matplotlib.figure.Figure at 0x7fd76df6dba8>"
      ]
     },
     "metadata": {},
     "output_type": "display_data"
    }
   ],
   "source": [
    "plt.figure()\n",
    "plt.boxplot(data_nyt, 0, sym='')\n",
    "plt.show()"
   ]
  },
  {
   "cell_type": "markdown",
   "metadata": {},
   "source": [
    "## Combined NYT + WSJ boxplot"
   ]
  },
  {
   "cell_type": "code",
   "execution_count": 67,
   "metadata": {},
   "outputs": [
    {
     "data": {
      "image/png": "[encoded data removed]",
      "text/plain": [
       "<matplotlib.figure.Figure at 0x7fd76db2bb00>"
      ]
     },
     "metadata": {},
     "output_type": "display_data"
    }
   ],
   "source": [
    "data = [data_nyt, data_wsj]\n",
    "plt.figure()\n",
    "plt.boxplot(data)\n",
    "plt.show()"
   ]
  },
  {
   "cell_type": "code",
   "execution_count": 68,
   "metadata": {},
   "outputs": [
    {
     "data": {
      "image/png": "[encoded data removed]",
      "text/plain": [
       "<matplotlib.figure.Figure at 0x7fd76d8e4978>"
      ]
     },
     "metadata": {},
     "output_type": "display_data"
    }
   ],
   "source": [
    "plt.figure()\n",
    "plt.boxplot(data, 0, sym='')\n",
    "plt.show()"
   ]
  }
 ],
 "metadata": {
  "kernelspec": {
   "display_name": "Python 3",
   "language": "python",
   "name": "python3"
  },
  "language_info": {
   "codemirror_mode": {
    "name": "ipython",
    "version": 3
   },
   "file_extension": ".py",
   "mimetype": "text/x-python",
   "name": "python",
   "nbconvert_exporter": "python",
   "pygments_lexer": "ipython3",
   "version": "3.6.1"
  }
 },
 "nbformat": 4,
 "nbformat_minor": 2
}
