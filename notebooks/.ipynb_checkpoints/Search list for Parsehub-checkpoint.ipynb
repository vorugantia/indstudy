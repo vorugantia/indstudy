{
 "cells": [
  {
   "cell_type": "markdown",
   "metadata": {},
   "source": [
    "#### 1. Load the two lists of senators and sources, and assign them to Python variables.\n",
    "\n",
    "Once the lists are assigned to variables, they can be accessed and modified with code."
   ]
  },
  {
   "cell_type": "code",
   "execution_count": 1,
   "metadata": {
    "collapsed": true
   },
   "outputs": [],
   "source": [
    "import json\n",
    "from pprint import pprint"
   ]
  },
  {
   "cell_type": "code",
   "execution_count": 2,
   "metadata": {
    "scrolled": true
   },
   "outputs": [
    {
     "data": {
      "text/plain": [
       "[{'name': 'Luther Strange', 'party': 'R'},\n",
       " {'name': 'Patrick Leahy', 'party': 'D'},\n",
       " {'name': 'Orrin Hatch', 'party': 'R'},\n",
       " {'name': 'Thad Cochran', 'party': 'R'},\n",
       " {'name': 'Chuck Grassley', 'party': 'R'}]"
      ]
     },
     "execution_count": 2,
     "metadata": {},
     "output_type": "execute_result"
    }
   ],
   "source": [
    "with open('../build/input/senator_list.json') as senator_list:\n",
    "    senators = json.load(senator_list)\n",
    "senators[:5] # Showing the first 5 items in the senators list."
   ]
  },
  {
   "cell_type": "code",
   "execution_count": 3,
   "metadata": {
    "scrolled": true
   },
   "outputs": [
    {
     "data": {
      "text/plain": [
       "['new york times', 'wall street journal']"
      ]
     },
     "execution_count": 3,
     "metadata": {},
     "output_type": "execute_result"
    }
   ],
   "source": [
    "with open('../build/input/source_list.json') as source_list:\n",
    "    sources = json.load(source_list)\n",
    "sources # Many more news sources will be added to this list in the future."
   ]
  },
  {
   "cell_type": "markdown",
   "metadata": {},
   "source": [
    "#### 2. Make search terms from the `senators` and `sources` variables.\n",
    "\n",
    "Each search term is based off of the same template, with different combinations of senators and sources."
   ]
  },
  {
   "cell_type": "code",
   "execution_count": 4,
   "metadata": {
    "collapsed": true
   },
   "outputs": [],
   "source": [
    "def get_template(source, senator):\n",
    "    return 'pub(%s) AND (\"%s\") AND stype.exact(\"Newspapers\") AND pd(20170101-20171231)' % (source, senator)"
   ]
  },
  {
   "cell_type": "code",
   "execution_count": 5,
   "metadata": {
    "scrolled": true
   },
   "outputs": [
    {
     "data": {
      "text/plain": [
       "['pub(new york times) AND (\"Luther Strange\") AND stype.exact(\"Newspapers\") AND pd(20170101-20171231)',\n",
       " 'pub(new york times) AND (\"Patrick Leahy\") AND stype.exact(\"Newspapers\") AND pd(20170101-20171231)',\n",
       " 'pub(new york times) AND (\"Orrin Hatch\") AND stype.exact(\"Newspapers\") AND pd(20170101-20171231)',\n",
       " 'pub(new york times) AND (\"Thad Cochran\") AND stype.exact(\"Newspapers\") AND pd(20170101-20171231)',\n",
       " 'pub(new york times) AND (\"Chuck Grassley\") AND stype.exact(\"Newspapers\") AND pd(20170101-20171231)']"
      ]
     },
     "execution_count": 5,
     "metadata": {},
     "output_type": "execute_result"
    }
   ],
   "source": [
    "searches = []\n",
    "for source in sources:\n",
    "    for senator in senators:\n",
    "        searches.append(get_template(source, senator[\"name\"]))\n",
    "searches[:5] # Showing first 5 search terms."
   ]
  },
  {
   "cell_type": "markdown",
   "metadata": {},
   "source": [
    "#### 3. Write the array of search terms to a JSON file.\n",
    "\n",
    "The contents of this file will be copied and pasted into my program that scrapes ProQuest."
   ]
  },
  {
   "cell_type": "code",
   "execution_count": 6,
   "metadata": {
    "collapsed": true
   },
   "outputs": [],
   "source": [
    "query = {\"searches\": searches}\n",
    "with open('query.json', 'w') as outfile:\n",
    "    json.dump(query, outfile)"
   ]
  }
 ],
 "metadata": {
  "kernelspec": {
   "display_name": "Python 3",
   "language": "python",
   "name": "python3"
  },
  "language_info": {
   "codemirror_mode": {
    "name": "ipython",
    "version": 3
   },
   "file_extension": ".py",
   "mimetype": "text/x-python",
   "name": "python",
   "nbconvert_exporter": "python",
   "pygments_lexer": "ipython3",
   "version": "3.6.1"
  }
 },
 "nbformat": 4,
 "nbformat_minor": 2
}
