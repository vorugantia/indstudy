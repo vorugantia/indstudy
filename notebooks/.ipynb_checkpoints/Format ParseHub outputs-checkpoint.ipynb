{
 "cells": [
  {
   "cell_type": "markdown",
   "metadata": {},
   "source": [
    "* Load the JSON output files that came directly from ParseHub\n",
    "* Output JSON file is a of objects, with each object containing the keys: senator, party, ideology, NYT results, WSJ results"
   ]
  },
  {
   "cell_type": "code",
   "execution_count": 1,
   "metadata": {
    "collapsed": true
   },
   "outputs": [],
   "source": [
    "import json\n",
    "import re"
   ]
  },
  {
   "cell_type": "code",
   "execution_count": 8,
   "metadata": {},
   "outputs": [],
   "source": [
    "with open('../build/output/parsehub-nyt-senators.json') as nyt:\n",
    "    parsehub_nyt = json.load(nyt)['results']\n",
    "\n",
    "with open('../build/output/parsehub-wsj-senators.json') as wsj:\n",
    "    parsehub_wsj = json.load(wsj)['results']\n",
    "\n",
    "with open('../build/input/senator_list.json') as senator_list:\n",
    "    senators = json.load(senator_list)"
   ]
  },
  {
   "cell_type": "code",
   "execution_count": 12,
   "metadata": {},
   "outputs": [
    {
     "data": {
      "text/plain": [
       "[{'numberofResults': '4 results',\n",
       "  'searchTerm': 'pub(new york times) AND (\"Jim Inhofe\") AND stype.exact(\"Newspapers\") AND pd(20160101-20161231)'},\n",
       " {'numberofResults': '20 results',\n",
       "  'searchTerm': 'pub(new york times) AND (\"Pat Roberts\") AND stype.exact(\"Newspapers\") AND pd(20160101-20161231)'},\n",
       " {'numberofResults': '11 results',\n",
       "  'searchTerm': 'pub(new york times) AND (\"John Barrasso\") AND stype.exact(\"Newspapers\") AND pd(20160101-20161231)'},\n",
       " {'numberofResults': '16 results',\n",
       "  'searchTerm': 'pub(new york times) AND (\"James Lankford\") AND stype.exact(\"Newspapers\") AND pd(20160101-20161231)'},\n",
       " {'searchTerm': 'pub(new york times) AND (\"James Risch\") AND stype.exact(\"Newspapers\") AND pd(20160101-20161231)'}]"
      ]
     },
     "execution_count": 12,
     "metadata": {},
     "output_type": "execute_result"
    }
   ],
   "source": [
    "parsehub_nyt[:5]"
   ]
  },
  {
   "cell_type": "code",
   "execution_count": 15,
   "metadata": {},
   "outputs": [
    {
     "name": "stdout",
     "output_type": "stream",
     "text": [
      "(\"Jim Inhofe\")\n"
     ]
    }
   ],
   "source": [
    "search_terms = parsehub_nyt[0]['searchTerm'].split(\" AND \")\n",
    "print(search_terms[1])"
   ]
  },
  {
   "cell_type": "code",
   "execution_count": null,
   "metadata": {
    "collapsed": true
   },
   "outputs": [],
   "source": []
  }
 ],
 "metadata": {
  "kernelspec": {
   "display_name": "Python 3",
   "language": "python",
   "name": "python3"
  },
  "language_info": {
   "codemirror_mode": {
    "name": "ipython",
    "version": 3
   },
   "file_extension": ".py",
   "mimetype": "text/x-python",
   "name": "python",
   "nbconvert_exporter": "python",
   "pygments_lexer": "ipython3",
   "version": "3.6.1"
  }
 },
 "nbformat": 4,
 "nbformat_minor": 2
}
